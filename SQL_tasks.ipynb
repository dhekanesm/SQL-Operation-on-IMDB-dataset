{
 "cells": [
  {
   "cell_type": "markdown",
   "metadata": {},
   "source": [
    "# SQL Operation in IMDB"
   ]
  },
  {
   "cell_type": "code",
   "execution_count": 1,
   "metadata": {},
   "outputs": [],
   "source": [
    "import pandas as pd\n",
    "import sqlite3"
   ]
  },
  {
   "cell_type": "code",
   "execution_count": 2,
   "metadata": {},
   "outputs": [],
   "source": [
    "conn = sqlite3.connect(\"Db-IMDB-Assignment.db\")"
   ]
  },
  {
   "cell_type": "code",
   "execution_count": 3,
   "metadata": {},
   "outputs": [],
   "source": [
    "cursor = conn.cursor()"
   ]
  },
  {
   "cell_type": "markdown",
   "metadata": {},
   "source": [
    "## Data Manipulation"
   ]
  },
  {
   "cell_type": "code",
   "execution_count": 4,
   "metadata": {},
   "outputs": [],
   "source": [
    "cursor.execute('UPDATE Movie SET year = REPLACE(year, \"X \", \"\");')\n",
    "\n",
    "cursor.execute('UPDATE Movie SET year = REPLACE(year, \"V\", \"\");')\n",
    "\n",
    "cursor.execute('UPDATE Movie SET year = REPLACE(year, \"I\", \"\");')\n",
    "\n",
    "cursor.execute('UPDATE Movie SET title = LTRIM(title);')\n",
    "cursor.execute('UPDATE Movie SET year = RTRIM(LTRIM(year));')\n",
    "cursor.execute('UPDATE Movie SET rating = RTRIM(LTRIM(rating));')\n",
    "cursor.execute('UPDATE Movie SET num_votes = RTRIM(LTRIM(num_votes));')\n",
    "\n",
    "cursor.execute('UPDATE M_Producer SET pid = RTRIM(LTRIM(pid));')\n",
    "cursor.execute('UPDATE M_Producer SET mid = RTRIM(LTRIM(mid));')\n",
    "\n",
    "cursor.execute('UPDATE M_Director SET pid = RTRIM(LTRIM(pid));')\n",
    "cursor.execute('UPDATE M_Director SET mid = RTRIM(LTRIM(mid));')\n",
    "\n",
    "cursor.execute('UPDATE M_Cast SET pid = RTRIM(LTRIM(pid));')\n",
    "cursor.execute('UPDATE M_Cast SET mid = RTRIM(LTRIM(mid));')\n",
    "\n",
    "cursor.execute('UPDATE M_Genre SET gid = RTRIM(LTRIM(gid));')\n",
    "cursor.execute('UPDATE M_Genre SET mid = RTRIM(LTRIM(mid));')\n",
    "\n",
    "cursor.execute('UPDATE Genre SET gid = RTRIM(LTRIM(gid));')\n",
    "cursor.execute('UPDATE Genre SET name = RTRIM(LTRIM(name));')\n",
    "\n",
    "cursor.execute('UPDATE Person SET name = RTRIM(LTRIM(name));')\n",
    "cursor.execute('UPDATE Person SET pid = RTRIM(LTRIM(pid));')\n",
    "cursor.execute('UPDATE Person SET gender = RTRIM(LTRIM(gender));')\n",
    "\n",
    "conn.commit()\n"
   ]
  },
  {
   "cell_type": "markdown",
   "metadata": {},
   "source": [
    "## Q1 --- List all the directors who directed a 'Comedy' movie in a leap year. (You need to check that the genre is 'Comedy’ and year is a leap year) Your query should return director name, the movie name, and the year."
   ]
  },
  {
   "cell_type": "code",
   "execution_count": 6,
   "metadata": {},
   "outputs": [
    {
     "name": "stdout",
     "output_type": "stream",
     "text": [
      "(232, 4)\n",
      "Wall time: 149 ms\n"
     ]
    },
    {
     "data": {
      "text/html": [
       "<div>\n",
       "<style scoped>\n",
       "    .dataframe tbody tr th:only-of-type {\n",
       "        vertical-align: middle;\n",
       "    }\n",
       "\n",
       "    .dataframe tbody tr th {\n",
       "        vertical-align: top;\n",
       "    }\n",
       "\n",
       "    .dataframe thead th {\n",
       "        text-align: right;\n",
       "    }\n",
       "</style>\n",
       "<table border=\"1\" class=\"dataframe\">\n",
       "  <thead>\n",
       "    <tr style=\"text-align: right;\">\n",
       "      <th></th>\n",
       "      <th>Director</th>\n",
       "      <th>Movie_Name</th>\n",
       "      <th>Genre</th>\n",
       "      <th>Leap_Year</th>\n",
       "    </tr>\n",
       "  </thead>\n",
       "  <tbody>\n",
       "    <tr>\n",
       "      <th>0</th>\n",
       "      <td>Milap Zaveri</td>\n",
       "      <td>Mastizaade</td>\n",
       "      <td>Comedy</td>\n",
       "      <td>2016</td>\n",
       "    </tr>\n",
       "    <tr>\n",
       "      <th>1</th>\n",
       "      <td>Danny Leiner</td>\n",
       "      <td>Harold &amp; Kumar Go to White Castle</td>\n",
       "      <td>Adventure, Comedy</td>\n",
       "      <td>2004</td>\n",
       "    </tr>\n",
       "    <tr>\n",
       "      <th>2</th>\n",
       "      <td>Anurag Kashyap</td>\n",
       "      <td>Gangs of Wasseypur</td>\n",
       "      <td>Action, Comedy, Crime</td>\n",
       "      <td>2012</td>\n",
       "    </tr>\n",
       "    <tr>\n",
       "      <th>3</th>\n",
       "      <td>Frank Coraci</td>\n",
       "      <td>Around the World in 80 Days</td>\n",
       "      <td>Action, Adventure, Comedy</td>\n",
       "      <td>2004</td>\n",
       "    </tr>\n",
       "    <tr>\n",
       "      <th>4</th>\n",
       "      <td>Griffin Dunne</td>\n",
       "      <td>The Accidental Husband</td>\n",
       "      <td>Comedy, Romance</td>\n",
       "      <td>2008</td>\n",
       "    </tr>\n",
       "  </tbody>\n",
       "</table>\n",
       "</div>"
      ],
      "text/plain": [
       "         Director                         Movie_Name  \\\n",
       "0    Milap Zaveri                         Mastizaade   \n",
       "1    Danny Leiner  Harold & Kumar Go to White Castle   \n",
       "2  Anurag Kashyap                 Gangs of Wasseypur   \n",
       "3    Frank Coraci        Around the World in 80 Days   \n",
       "4   Griffin Dunne             The Accidental Husband   \n",
       "\n",
       "                       Genre Leap_Year  \n",
       "0                     Comedy      2016  \n",
       "1          Adventure, Comedy      2004  \n",
       "2      Action, Comedy, Crime      2012  \n",
       "3  Action, Adventure, Comedy      2004  \n",
       "4            Comedy, Romance      2008  "
      ]
     },
     "execution_count": 6,
     "metadata": {},
     "output_type": "execute_result"
    }
   ],
   "source": [
    "%%time\n",
    "# Write your sql query below\n",
    "\n",
    "query = \"\"\"\n",
    "       SELECT p.Name as Director,m.title as Movie_Name,g.Name as Genre,m.year as Leap_Year\n",
    "FROM movie m JOIN M_Director d ON m.MID=d.MID\n",
    "JOIN M_Genre mg ON m.MID=mg.MID\n",
    "JOIN Person p ON d.PID=p.PID\n",
    "JOIN Genre g ON mg.GID=g.GID\n",
    "WHERE (m.year%4=0) AND g.Name LIKE \"%%Comedy%%\"\n",
    "        \n",
    "        \"\"\"\n",
    "\n",
    "q1 = pd.read_sql_query(query, conn)    \n",
    "print(q1.shape)\n",
    "q1.head()"
   ]
  },
  {
   "cell_type": "markdown",
   "metadata": {},
   "source": [
    "## Q2 --- List the names of all the actors who played in the movie 'Anand' (1971)"
   ]
  },
  {
   "cell_type": "code",
   "execution_count": 7,
   "metadata": {},
   "outputs": [
    {
     "name": "stdout",
     "output_type": "stream",
     "text": [
      "(17, 2)\n",
      "   Movie_Name        Actor_Name\n",
      "0       Anand  Amitabh Bachchan\n",
      "1       Anand     Rajesh Khanna\n",
      "2       Anand    Brahm Bhardwaj\n",
      "3       Anand        Ramesh Deo\n",
      "4       Anand         Seema Deo\n",
      "5       Anand        Dev Kishan\n",
      "6       Anand       Durga Khote\n",
      "7       Anand     Lalita Kumari\n",
      "8       Anand      Lalita Pawar\n",
      "9       Anand      Atam Prakash\n",
      "10      Anand     Sumita Sanyal\n",
      "11      Anand    Asit Kumar Sen\n",
      "12      Anand        Dara Singh\n",
      "13      Anand     Johnny Walker\n",
      "14      Anand         Moolchand\n",
      "15      Anand      Gurnam Singh\n",
      "16      Anand            Savita\n",
      "Wall time: 348 ms\n"
     ]
    }
   ],
   "source": [
    "%%time\n",
    "# Write your sql query below\n",
    "\n",
    "query = \"\"\"\n",
    "        SELECT m.title as Movie_Name,p.Name AS Actor_Name\n",
    "FROM M_Cast mc INNER JOIN Person p ON mc.PID=p.PID\n",
    "INNER JOIN Movie m ON mc.MID=m.MID\n",
    "WHERE m.title=\"Anand\"\n",
    "        \n",
    "        \"\"\"\n",
    "\n",
    "q2 = pd.read_sql_query(query, conn)    \n",
    "print(q2.shape)\n",
    "print(q2)"
   ]
  },
  {
   "cell_type": "markdown",
   "metadata": {},
   "source": [
    "## Q3 --- List all the actors who acted in a film before 1970 and in a film after 1990. (That is: < 1970 and > 1990.)"
   ]
  },
  {
   "cell_type": "code",
   "execution_count": 8,
   "metadata": {},
   "outputs": [
    {
     "name": "stdout",
     "output_type": "stream",
     "text": [
      "(300, 2)\n",
      "           PID                Name\n",
      "0    nm0000821    Amitabh Bachchan\n",
      "1    nm0003987  Mohandas K. Gandhi\n",
      "2    nm0004334               Rekha\n",
      "3    nm0004429          Dharmendra\n",
      "4    nm0004432   Prithviraj Kapoor\n",
      "..         ...                 ...\n",
      "295  nm2983292         Mohamad Ali\n",
      "296  nm4563339                Dube\n",
      "297  nm7390393      Aachi Manorama\n",
      "298  nm9036653       Surendra Rahi\n",
      "299  nm9045541             Shirley\n",
      "\n",
      "[300 rows x 2 columns]\n",
      "Wall time: 1.34 s\n"
     ]
    }
   ],
   "source": [
    "%%time\n",
    "# Write your sql query below\n",
    "\n",
    "query = \"\"\"\n",
    "\n",
    "SELECT DISTINCT p.PID,p.Name FROM\n",
    "Person p INNER JOIN M_Cast mc ON p.PID=mc.PID\n",
    "INNER JOIN Movie m ON mc.MID=m.MID\n",
    "WHERE m.year<1970 AND p.PID IN  \n",
    "\t\t(SELECT DISTINCT p.PID\n",
    "\t\tFROM Person p INNER JOIN M_Cast mc ON p.PID=mc.PID\n",
    "\t\tINNER JOIN Movie m ON mc.MID=m.MID\n",
    "\t\tWHERE m.year>1990) order by p.PID\n",
    "        \"\"\"\n",
    "\n",
    "q3 = pd.read_sql_query(query, conn)    \n",
    "print(q3.shape)\n",
    "#q3.head()\n",
    "print(q3)"
   ]
  },
  {
   "cell_type": "markdown",
   "metadata": {},
   "source": [
    "### trying different way "
   ]
  },
  {
   "cell_type": "code",
   "execution_count": 9,
   "metadata": {},
   "outputs": [
    {
     "name": "stdout",
     "output_type": "stream",
     "text": [
      "(300, 2)\n",
      "           PID                Name\n",
      "0    nm0000821    Amitabh Bachchan\n",
      "1    nm0003987  Mohandas K. Gandhi\n",
      "2    nm0004334               Rekha\n",
      "3    nm0004429          Dharmendra\n",
      "4    nm0004432   Prithviraj Kapoor\n",
      "..         ...                 ...\n",
      "295  nm2983292         Mohamad Ali\n",
      "296  nm4563339                Dube\n",
      "297  nm7390393      Aachi Manorama\n",
      "298  nm9036653       Surendra Rahi\n",
      "299  nm9045541             Shirley\n",
      "\n",
      "[300 rows x 2 columns]\n",
      "Wall time: 1.41 s\n"
     ]
    }
   ],
   "source": [
    "%%time\n",
    "# Write your sql query below\n",
    "\n",
    "query = \"\"\"\n",
    "\n",
    "SELECT DISTINCT p1.PID,p1.Name \n",
    "FROM Person p1 \n",
    "INNER JOIN M_Cast c1 ON p1.PID = c1.PID\n",
    "INNER JOIN Movie m1 ON m1.MID = c1.MID,\n",
    "\n",
    "Person p2\n",
    "INNER JOIN M_Cast c2 ON p2.PID = c2.PID\n",
    "INNER JOIN Movie m2 ON m2.MID = c2.MID\n",
    "\n",
    "WHERE m1.year < 1970 and m2.year > 1990 and c1.PID = c2.PID ORDER BY p1.PID\n",
    "        \"\"\"\n",
    "\n",
    "q3 = pd.read_sql_query(query, conn)    \n",
    "print(q3.shape)\n",
    "#q3.head()\n",
    "print(q3)"
   ]
  },
  {
   "cell_type": "markdown",
   "metadata": {},
   "source": [
    "## Q4 --- List all directors who directed 10 movies or more, in descending order of the number of movies they directed. Return the directors' names and the number of movies each of them directed."
   ]
  },
  {
   "cell_type": "code",
   "execution_count": 11,
   "metadata": {},
   "outputs": [
    {
     "name": "stdout",
     "output_type": "stream",
     "text": [
      "(5, 2)\n",
      "          Dir_Name  movie_count\n",
      "0     David Dhawan           39\n",
      "1     Mahesh Bhatt           36\n",
      "2  Ram Gopal Varma           30\n",
      "3     Priyadarshan           30\n",
      "4     Vikram Bhatt           29\n",
      "Wall time: 106 ms\n"
     ]
    }
   ],
   "source": [
    "%%time\n",
    "# Write your sql query below\n",
    "\n",
    "query = \"\"\"\n",
    "SELECT p.name AS Dir_Name, COUNT(*) movie_count\n",
    "FROM M_Director d \n",
    "     INNER JOIN Person p \n",
    "              ON p.PID = d.PID\n",
    "     INNER JOIN Movie m\n",
    "              ON m.MID = d.MID              \n",
    "GROUP BY p.name HAVING movie_count>10 ORDER BY movie_count DESC LIMIT 5\n",
    "        \n",
    "        \"\"\"\n",
    "\n",
    "q4 = pd.read_sql_query(query, conn)    \n",
    "print(q4.shape)\n",
    "#q4.head()\n",
    "print(q4)"
   ]
  },
  {
   "cell_type": "markdown",
   "metadata": {},
   "source": [
    "## Q5.a --- For each year, count the number of movies in that year that had only female actors."
   ]
  },
  {
   "cell_type": "code",
   "execution_count": 12,
   "metadata": {},
   "outputs": [
    {
     "name": "stdout",
     "output_type": "stream",
     "text": [
      "(4, 3)\n",
      "        title  year  fmovie_count\n",
      "0  Kala Jigar  1939             1\n",
      "1   Bindhaast  1999             1\n",
      "2  Snegithiye  2000             1\n",
      "3        Pihu  2018             1\n",
      "Wall time: 1.11 s\n"
     ]
    }
   ],
   "source": [
    "%%time\n",
    "# Write your sql query below\n",
    "\n",
    "query = \"\"\"\n",
    "  \n",
    "SELECT m.title,m.year,COUNT(*) AS fmovie_count\n",
    "FROM Movie m\n",
    "WHERE m.MID NOT IN (\n",
    "  SELECT DISTINCT m.MID\n",
    "  FROM Movie m\n",
    "  INNER JOIN M_Cast mc ON m.MID = mc.MID\n",
    "  INNER JOIN Person p  ON mc.PID = p.PID\n",
    "  AND p.gender = 'Male'\n",
    ")\n",
    "AND m.MID IN (\n",
    "  SELECT DISTINCT m.MID\n",
    "  FROM Movie m\n",
    "  INNER JOIN M_Cast mc ON m.MID = mc.MID\n",
    "  INNER JOIN Person p  ON mc.PID = p.PID\n",
    "  AND p.gender = 'Female'\n",
    ")\n",
    "GROUP BY m.year;\n",
    "\n",
    "        \n",
    "        \"\"\"\n",
    "\n",
    "q5a = pd.read_sql_query(query, conn)    \n",
    "print(q5a.shape)\n",
    "#q5a.head(6)\n",
    "print(q5a)"
   ]
  },
  {
   "cell_type": "markdown",
   "metadata": {},
   "source": [
    "## Q5.b --- Now include a small change: report for each year the percentage of movies in that year with only female actors, and the total number of movies made that year. For example, one answer will be: 1990 31.81 13522 meaning that in 1990 there were 13,522 movies, and 31.81% had only female actors. You do not need to round your answer."
   ]
  },
  {
   "cell_type": "code",
   "execution_count": 13,
   "metadata": {},
   "outputs": [
    {
     "name": "stdout",
     "output_type": "stream",
     "text": [
      "(4, 4)\n",
      "   year  fmovie_count  Total_count  Percentage\n",
      "0  1939             1            2   50.000000\n",
      "1  1999             1           66    1.515152\n",
      "2  2000             1           64    1.562500\n",
      "3  2018             1          104    0.961538\n",
      "Wall time: 975 ms\n"
     ]
    }
   ],
   "source": [
    "%%time\n",
    "# Write your sql query below\n",
    "\n",
    "query = \"\"\"\n",
    "      SELECT a.year,a.fmovie_count,b.Total_count, a.fmovie_count*100.00/b.Total_count as Percentage FROM \n",
    "\t(SELECT m.year, COUNT(*) AS fmovie_count FROM Movie m\n",
    "\t\t WHERE m.MID NOT IN (\n",
    "\t\t\t  SELECT DISTINCT m.MID\n",
    "\t\t\t  FROM Movie m\n",
    "\t\t\t  INNER JOIN M_Cast mc ON m.MID = mc.MID\n",
    "\t\t\t  INNER JOIN Person p  ON mc.PID = p.PID\n",
    "\t\t\t  AND p.gender = 'Male'\n",
    "\t\t\t)\n",
    "\t\tAND m.MID IN (\n",
    "\t\t\t  SELECT DISTINCT m.MID\n",
    "\t\t\t  FROM Movie m\n",
    "\t\t\t  INNER JOIN M_Cast mc ON m.MID = mc.MID\n",
    "\t\t\t  INNER JOIN Person p  ON mc.PID = p.PID\n",
    "\t\t\t  AND p.gender = 'Female'\n",
    "\t\t)\n",
    "\t\tGROUP BY m.year) a,\n",
    "\t(SELECT m.year,COUNT(*) AS Total_count FROM Movie m GROUP BY m.year) b \n",
    "\t\t\n",
    "WHERE a.year = b.year\n",
    "ORDER BY a.year\n",
    "        \n",
    "        \"\"\"\n",
    "\n",
    "q5b = pd.read_sql_query(query, conn)    \n",
    "print(q5b.shape)\n",
    "#q5b.head(6)\n",
    "print(q5b)"
   ]
  },
  {
   "cell_type": "markdown",
   "metadata": {},
   "source": [
    "## Q6 --- Find the film(s) with the largest cast. Return the movie title and the size of the cast. By \"cast size\" we mean the number of distinct actors that played in that movie: if an actor played multiple roles, or if it simply occurs multiple times in casts, we still count her/him only once."
   ]
  },
  {
   "cell_type": "code",
   "execution_count": 14,
   "metadata": {},
   "outputs": [
    {
     "name": "stdout",
     "output_type": "stream",
     "text": [
      "(3, 2)\n",
      "           title  cast_size\n",
      "0  Ocean's Eight        238\n",
      "1       Apaharan        233\n",
      "2           Gold        215\n",
      "Wall time: 166 ms\n"
     ]
    }
   ],
   "source": [
    "%%time\n",
    "# Write your sql query below\n",
    "\n",
    "query = \"\"\"\n",
    "SELECT title, COUNT(DISTINCT(PID)) cast_size\n",
    "FROM M_Cast mc \n",
    "     INNER JOIN Movie m\n",
    "              ON m.MID = mc.MID              \n",
    "GROUP BY title ORDER BY cast_size DESC LIMIT 3\n",
    "        \n",
    "        \"\"\"\n",
    "\n",
    "q6 = pd.read_sql_query(query, conn)    \n",
    "print(q6.shape)\n",
    "#q6.head(1)\n",
    "print(q6)"
   ]
  },
  {
   "cell_type": "markdown",
   "metadata": {},
   "source": [
    "### Other Way"
   ]
  },
  {
   "cell_type": "code",
   "execution_count": 16,
   "metadata": {},
   "outputs": [
    {
     "name": "stdout",
     "output_type": "stream",
     "text": [
      "(3, 2)\n",
      "           title  cast_size\n",
      "0  Ocean's Eight        238\n",
      "1       Apaharan        233\n",
      "2           Gold        214\n",
      "Wall time: 536 ms\n"
     ]
    }
   ],
   "source": [
    "%%time\n",
    "# Write your sql query below\n",
    "\n",
    "query = \"\"\"\n",
    "SELECT title, COUNT(DISTINCT(Name)) cast_size\n",
    "FROM M_Cast mc \n",
    "     INNER JOIN Person p \n",
    "              ON p.PID = mc.PID\n",
    "     INNER JOIN Movie m\n",
    "              ON m.MID = mc.MID              \n",
    "GROUP BY title HAVING cast_size>100 ORDER BY cast_size DESC LIMIT 3\n",
    "        \n",
    "        \"\"\"\n",
    "\n",
    "q6 = pd.read_sql_query(query, conn)    \n",
    "print(q6.shape)\n",
    "#q6.head(1)\n",
    "print(q6)"
   ]
  },
  {
   "cell_type": "markdown",
   "metadata": {},
   "source": [
    "## Q7 --- A decade is a sequence of 10 consecutive years. For example, say in your database you have movie information starting from 1965. Then the first decade is 1965, 1966, ..., 1974; the second one is 1967, 1968, ..., 1976 and so on. Find the decade D with the largest number of films and the total number of films in D."
   ]
  },
  {
   "cell_type": "code",
   "execution_count": 26,
   "metadata": {},
   "outputs": [
    {
     "name": "stdout",
     "output_type": "stream",
     "text": [
      "(71, 3)\n",
      "   dec_start  dec_end  movies_count\n",
      "0       2008     2017          1205\n",
      "1       2009     2018          1202\n",
      "2       2007     2016          1188\n",
      "3       2005     2014          1170\n",
      "4       2006     2015          1160\n",
      "..       ...      ...           ...\n",
      "66      1943     1952            25\n",
      "67      1941     1950            14\n",
      "68      1939     1948            11\n",
      "69      1936     1945             7\n",
      "70      1931     1940             6\n",
      "\n",
      "[71 rows x 3 columns]\n",
      "Wall time: 131 ms\n"
     ]
    }
   ],
   "source": [
    "%%time\n",
    "# Write your sql query below\n",
    "\n",
    "query = \"\"\"\n",
    "SELECT d.year as dec_start,d.year + 9 AS dec_end, COUNT(*) AS movies_count\n",
    "FROM\n",
    "(SELECT DISTINCT year FROM Movie) d \n",
    "JOIN Movie m ON m.year>=d.year AND m.year<d.year + 10\n",
    "GROUP BY d.year HAVING dec_end <= 2020\n",
    "ORDER BY movies_count DESC   \n",
    "        \n",
    "        \"\"\"\n",
    "\n",
    "q7 = pd.read_sql_query(query, conn)    \n",
    "print(q7.shape)\n",
    "#q7.head()\n",
    "print(q7)"
   ]
  },
  {
   "cell_type": "markdown",
   "metadata": {},
   "source": [
    "## Q8 --- Find all the actors that made more movies with Yash Chopra than any other director."
   ]
  },
  {
   "cell_type": "code",
   "execution_count": 27,
   "metadata": {},
   "outputs": [
    {
     "name": "stdout",
     "output_type": "stream",
     "text": [
      "(228, 4)\n",
      "Wall time: 1.8 s\n"
     ]
    },
    {
     "data": {
      "text/html": [
       "<div>\n",
       "<style scoped>\n",
       "    .dataframe tbody tr th:only-of-type {\n",
       "        vertical-align: middle;\n",
       "    }\n",
       "\n",
       "    .dataframe tbody tr th {\n",
       "        vertical-align: top;\n",
       "    }\n",
       "\n",
       "    .dataframe thead th {\n",
       "        text-align: right;\n",
       "    }\n",
       "</style>\n",
       "<table border=\"1\" class=\"dataframe\">\n",
       "  <thead>\n",
       "    <tr style=\"text-align: right;\">\n",
       "      <th></th>\n",
       "      <th>num</th>\n",
       "      <th>director</th>\n",
       "      <th>actor</th>\n",
       "      <th>actor_name</th>\n",
       "    </tr>\n",
       "  </thead>\n",
       "  <tbody>\n",
       "    <tr>\n",
       "      <th>0</th>\n",
       "      <td>7</td>\n",
       "      <td>nm0007181</td>\n",
       "      <td>nm0004434</td>\n",
       "      <td>Shashi Kapoor</td>\n",
       "    </tr>\n",
       "    <tr>\n",
       "      <th>1</th>\n",
       "      <td>2</td>\n",
       "      <td>nm0007181</td>\n",
       "      <td>nm0007181</td>\n",
       "      <td>Yash Chopra</td>\n",
       "    </tr>\n",
       "    <tr>\n",
       "      <th>2</th>\n",
       "      <td>1</td>\n",
       "      <td>nm0007181</td>\n",
       "      <td>nm0015296</td>\n",
       "      <td>Akhtar-Ul-Iman</td>\n",
       "    </tr>\n",
       "    <tr>\n",
       "      <th>3</th>\n",
       "      <td>1</td>\n",
       "      <td>nm0007181</td>\n",
       "      <td>nm0019463</td>\n",
       "      <td>Murad Ali</td>\n",
       "    </tr>\n",
       "    <tr>\n",
       "      <th>4</th>\n",
       "      <td>1</td>\n",
       "      <td>nm0007181</td>\n",
       "      <td>nm0046230</td>\n",
       "      <td>Badri Prasad</td>\n",
       "    </tr>\n",
       "  </tbody>\n",
       "</table>\n",
       "</div>"
      ],
      "text/plain": [
       "   num   director      actor      actor_name\n",
       "0    7  nm0007181  nm0004434   Shashi Kapoor\n",
       "1    2  nm0007181  nm0007181     Yash Chopra\n",
       "2    1  nm0007181  nm0015296  Akhtar-Ul-Iman\n",
       "3    1  nm0007181  nm0019463       Murad Ali\n",
       "4    1  nm0007181  nm0046230    Badri Prasad"
      ]
     },
     "execution_count": 27,
     "metadata": {},
     "output_type": "execute_result"
    }
   ],
   "source": [
    "%%time\n",
    "# Write your sql query below\n",
    "\n",
    "query = \"\"\"\n",
    "SELECT f.num,f.director,f.actor,f.actor_name FROM\n",
    "  (SELECT MAX(s.cnt) AS num,s.director,s.actor,s.act_name AS actor_name FROM\n",
    "\t(SELECT DISTINCT p.Name AS act_name,mc.PID AS actor, mc.MID,COUNT(mc.PID) AS cnt,d.PID as director FROM Person p \n",
    "\t\tJOIN M_Cast mc ON mc.PID = p.PID \n",
    "\t\tJOIN M_Director d ON d.MID = mc.MID\n",
    "\t\tGROUP BY d.PID,p.PID) AS s GROUP BY s.actor) AS f WHERE f.director = (SELECT PID FROM Person WHERE name = \"Yash Chopra\")\n",
    "        \"\"\"\n",
    "\n",
    "q8 = pd.read_sql_query(query, conn)    \n",
    "print(q8.shape)\n",
    "q8.head()"
   ]
  },
  {
   "cell_type": "markdown",
   "metadata": {},
   "source": [
    "## Q9 --- The Shahrukh number of an actor is the length of the shortest path between the actor and Shahrukh Khan in the \"co-acting\" graph. That is, Shahrukh Khan has Shahrukh number 0; all actors who acted in the same film as Shahrukh have Shahrukh number 1; all actors who acted in the same film as some actor with Shahrukh number 1 have Shahrukh number 2, etc. Return all actors whose Shahrukh number is 2."
   ]
  },
  {
   "cell_type": "code",
   "execution_count": 28,
   "metadata": {},
   "outputs": [
    {
     "name": "stdout",
     "output_type": "stream",
     "text": [
      "(25698, 2)\n",
      "Wall time: 2.91 s\n"
     ]
    },
    {
     "data": {
      "text/html": [
       "<div>\n",
       "<style scoped>\n",
       "    .dataframe tbody tr th:only-of-type {\n",
       "        vertical-align: middle;\n",
       "    }\n",
       "\n",
       "    .dataframe tbody tr th {\n",
       "        vertical-align: top;\n",
       "    }\n",
       "\n",
       "    .dataframe thead th {\n",
       "        text-align: right;\n",
       "    }\n",
       "</style>\n",
       "<table border=\"1\" class=\"dataframe\">\n",
       "  <thead>\n",
       "    <tr style=\"text-align: right;\">\n",
       "      <th></th>\n",
       "      <th>Name</th>\n",
       "      <th>PID</th>\n",
       "    </tr>\n",
       "  </thead>\n",
       "  <tbody>\n",
       "    <tr>\n",
       "      <th>0</th>\n",
       "      <td>Freida Pinto</td>\n",
       "      <td>nm2951768</td>\n",
       "    </tr>\n",
       "    <tr>\n",
       "      <th>1</th>\n",
       "      <td>Rohan Chand</td>\n",
       "      <td>nm4575116</td>\n",
       "    </tr>\n",
       "    <tr>\n",
       "      <th>2</th>\n",
       "      <td>Damian Young</td>\n",
       "      <td>nm0949433</td>\n",
       "    </tr>\n",
       "    <tr>\n",
       "      <th>3</th>\n",
       "      <td>Waris Ahluwalia</td>\n",
       "      <td>nm1753302</td>\n",
       "    </tr>\n",
       "    <tr>\n",
       "      <th>4</th>\n",
       "      <td>Caroline Christl Long</td>\n",
       "      <td>nm6467532</td>\n",
       "    </tr>\n",
       "  </tbody>\n",
       "</table>\n",
       "</div>"
      ],
      "text/plain": [
       "                    Name        PID\n",
       "0           Freida Pinto  nm2951768\n",
       "1            Rohan Chand  nm4575116\n",
       "2           Damian Young  nm0949433\n",
       "3        Waris Ahluwalia  nm1753302\n",
       "4  Caroline Christl Long  nm6467532"
      ]
     },
     "execution_count": 28,
     "metadata": {},
     "output_type": "execute_result"
    }
   ],
   "source": [
    "%%time\n",
    "# Write your sql query below\n",
    "\n",
    "query = \"\"\"\n",
    "        \n",
    "SELECT DISTINCT p2.Name,p2.PID FROM\n",
    "Person p2 INNER JOIN M_Cast mc2 ON p2.PID = mc2.PID\n",
    "INNER JOIN Movie m2 ON m2.MID = mc2.MID\n",
    "WHERE p2.Name <> \"Shah Rukh Khan\" AND m2.MID IN\n",
    "\t\t(SELECT DISTINCT m1.MID FROM \n",
    "\t\tPerson p1 INNER JOIN M_Cast mc1 ON p1.PID = mc1.PID\n",
    "\t\tINNER JOIN Movie m1 ON m1.MID = mc1.MID\n",
    "\t\tWHERE p1.PID in (SELECT DISTINCT p.PID FROM \n",
    "\t\t\t\t\t\tPerson p INNER JOIN M_Cast mc ON p.PID = mc.PID\n",
    "\t\t\t\t\t\tINNER JOIN Movie m ON m.MID = mc.MID\n",
    "\t\t\t\t\t\tWHERE p.Name <> \"Shah Rukh Khan\" AND mc.MID IN \n",
    "\t\t\t\t\t\t\t\t(SELECT mc.MID                      \n",
    "\t\t\t\t\t\t\t\t FROM M_Cast mc \n",
    "\t\t\t\t\t\t     \t\tINNER JOIN Person p \n",
    "\t\t\t\t\t\t              ON p.PID = mc.PID\n",
    "\t\t\t\t\t\t     \t\tINNER JOIN Movie m\n",
    "\t\t\t\t\t\t              ON m.MID = mc.MID \n",
    "\t\t\t\t\t\t \t\tWHERE p.name LIKE \"%Shah%Rukh%Khan%\"))) \n",
    "AND p2.PID Not in \n",
    "\t\t(SELECT DISTINCT p1.PID FROM \n",
    "\t\t\t\t\t\tPerson p1 INNER JOIN M_Cast mc1 ON p1.PID = mc1.PID\n",
    "\t\t\t\t\t\tINNER JOIN Movie m1 ON m1.MID = mc1.MID\n",
    "\t\t\t\t\t\tWHERE p1.Name <> \"Shah Rukh Khan\" AND mc1.MID IN \n",
    "\t\t\t\t\t\t\t (SELECT mc.MID                      \n",
    "\t\t\t\t\t\t\t\t FROM M_Cast mc \n",
    "\t\t\t\t\t\t     \t\tINNER JOIN Person p \n",
    "\t\t\t\t\t\t              ON p.PID = mc.PID\n",
    "\t\t\t\t\t\t     \t\tINNER JOIN Movie m\n",
    "\t\t\t\t\t\t              ON m.MID = mc.MID \n",
    "\t\t\t\t\t\t \t\tWHERE p.name LIKE \"%Shah%Rukh%Khan%\"))\n",
    "        \n",
    "        \"\"\"\n",
    "\n",
    "q9 = pd.read_sql_query(query, conn)    \n",
    "print(q9.shape)\n",
    "q9.head()"
   ]
  },
  {
   "cell_type": "markdown",
   "metadata": {},
   "source": [
    "__Considering bottom up approach, with level 1 or select1 from bottom__\n",
    "\n",
    "__1.Select1 returns all the movies SRK acted in i.e 90 rows__\n",
    "\n",
    "__2.Select2 returns all the actors(SRK1) who worked with SRK i.e distinct actor rows = 2382__\n",
    "\n",
    "__3.Select3 returns all the movies SRK1 acted in i.e distinct movies rows = 3206__\n",
    "\n",
    "__2ND part__\n",
    "\n",
    "__4.Select4 returns all the actors(SRK2) acted in 3206 movies__\n",
    "\n",
    "__5.p2.PID deselects all the common actors in SRK1 and SRK0 i.e 2382 + 1__\n",
    "\n",
    "__6.Running complete code help us to get distinct actors who acted with SRK1 i.e 25698__"
   ]
  },
  {
   "cell_type": "code",
   "execution_count": null,
   "metadata": {},
   "outputs": [],
   "source": []
  }
 ],
 "metadata": {
  "kernelspec": {
   "display_name": "Python 3",
   "language": "python",
   "name": "python3"
  },
  "language_info": {
   "codemirror_mode": {
    "name": "ipython",
    "version": 3
   },
   "file_extension": ".py",
   "mimetype": "text/x-python",
   "name": "python",
   "nbconvert_exporter": "python",
   "pygments_lexer": "ipython3",
   "version": "3.7.4"
  }
 },
 "nbformat": 4,
 "nbformat_minor": 2
}
